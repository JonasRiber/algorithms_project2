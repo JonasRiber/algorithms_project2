{
 "cells": [
  {
   "cell_type": "markdown",
   "metadata": {},
   "source": [
    "# Project 2: Global alignment with different gap costs\n",
    "This project is about implementing and experimenting with pairwise sequence comparison methods to compute optimal global alignments of two sequences where the object is to minimize a cost."
   ]
  },
  {
   "cell_type": "markdown",
   "metadata": {},
   "source": [
    "### Clearing up conceptual details"
   ]
  },
  {
   "cell_type": "markdown",
   "metadata": {},
   "source": [
    "Pairwise alignment minimizing cost: the difference compared to maximizing cost as we did with the first project is in the scoring matrix, in case of cost minimizing, it gives a score of 0 (= not rewarding) to matches and positive score to mismatches, while with maximizing cost, we reward matches with a higher positive score and not give that high of a score to mismatches"
   ]
  },
  {
   "cell_type": "markdown",
   "metadata": {},
   "source": [
    "* \"Maximizing cost\": the goal is to have the highest number of matches, the total length of the aligned sequences doesn't matter\n",
    "* \"Minimizing cost\": the goal is to obtain the shortest possible alignment"
   ]
  },
  {
   "cell_type": "markdown",
   "metadata": {},
   "source": [
    "## Reading in a FASTA file"
   ]
  },
  {
   "cell_type": "code",
   "execution_count": 32,
   "metadata": {},
   "outputs": [
    {
     "name": "stdout",
     "output_type": "stream",
     "text": [
      "ACGTGTCAACGT\n"
     ]
    }
   ],
   "source": [
    "from pysam import FastaFile\n",
    "\n",
    "sequences_object = FastaFile(\"../data/case_01.fasta\")\n",
    "\n",
    "seq1 = sequences_object.fetch(\"seq1\").upper()\n",
    "seq2 = sequences_object.fetch(\"seq2\").upper()\n",
    "print(seq1)"
   ]
  },
  {
   "cell_type": "markdown",
   "metadata": {},
   "source": [
    "## Specifying the score matrix"
   ]
  },
  {
   "cell_type": "markdown",
   "metadata": {},
   "source": [
    "Module \"score_matrix.py\""
   ]
  },
  {
   "cell_type": "code",
   "execution_count": 19,
   "metadata": {},
   "outputs": [],
   "source": [
    "def initiate_score_matrix(file):\n",
    "        raw = open(file, \"r\").read()\n",
    "        lines_sep = raw.split('\\n')\n",
    "        nested_dict = {}\n",
    "\n",
    "        for line in lines_sep:\n",
    "            parsed_line = line.split()\n",
    "            key = parsed_line[0]\n",
    "            scores_per_nucl = {}\n",
    "\n",
    "            for char in range(1, len(parsed_line)):\n",
    "                # Defining the inner dictionary\n",
    "                scores_per_nucl[lines_sep[char-1][0]] = int(parsed_line[char])\n",
    "            \n",
    "            nested_dict[key] = scores_per_nucl\n",
    "        \n",
    "        return nested_dict"
   ]
  },
  {
   "cell_type": "markdown",
   "metadata": {},
   "source": [
    "## Problem I: Implementing alignment methods\n",
    "You should implement the following programs for pairwise global alignment of DNA sequences (i.e. alphabeth a, c, g, t) based on minimizing cost, i.e. the optimal score is the minimum score."
   ]
  },
  {
   "cell_type": "markdown",
   "metadata": {},
   "source": [
    "### 1. Mandatory:\n",
    "Make a program global_linear that implements global alignment using linear gap cost. The program should be implemented such that it takes at most quadratic time and space to compute the cost of an optimal global alignment. If requested, the program should output an optimal global alignment."
   ]
  },
  {
   "cell_type": "markdown",
   "metadata": {},
   "source": [
    "So basically the same as last time, only with minimizing instead of maximizing\n",
    "\n",
    "\"If requested, the program should output an optimal global alignment\" = We have to have backtracking implemented as well"
   ]
  },
  {
   "cell_type": "code",
   "execution_count": 25,
   "metadata": {},
   "outputs": [
    {
     "data": {
      "text/plain": [
       "{'A': {'A': 0, 'C': 5, 'G': 2, 'T': 5},\n",
       " 'C': {'A': 5, 'C': 0, 'G': 5, 'T': 2},\n",
       " 'G': {'A': 2, 'C': 5, 'G': 0, 'T': 5},\n",
       " 'T': {'A': 5, 'C': 2, 'G': 5, 'T': 0}}"
      ]
     },
     "execution_count": 25,
     "metadata": {},
     "output_type": "execute_result"
    }
   ],
   "source": [
    "sc = initiate_score_matrix(\"../data/score_matrix.txt\")\n",
    "sc"
   ]
  },
  {
   "cell_type": "code",
   "execution_count": 28,
   "metadata": {},
   "outputs": [
    {
     "data": {
      "text/plain": [
       "25"
      ]
     },
     "execution_count": 28,
     "metadata": {},
     "output_type": "execute_result"
    }
   ],
   "source": [
    "def choose_gapcost():\n",
    "    while True:\n",
    "        lin_or_aff = input(\"Linear/affine gapcost: \").lower()\n",
    "        if lin_or_aff == \"linear\":\n",
    "            user_input = input(\"Gap cost: \")\n",
    "            if user_input.isdigit():\n",
    "                gap_cost = 5 * int(user_input)\n",
    "                break\n",
    "            print(\"Invalid input. Please try again.\")\n",
    "        elif lin_or_aff == \"affine\":\n",
    "            user_input = input(\"Gap cost: \")\n",
    "            if user_input.isdigit():\n",
    "                gap_cost = 5 + 5 * int(user_input)\n",
    "                break\n",
    "            print(\"Invalid input. Please try again.\")\n",
    "        print(\"Invalid input. Please try again.\")\n",
    "    return gap_cost\n",
    "\n",
    "choose_gapcost()"
   ]
  },
  {
   "cell_type": "code",
   "execution_count": 40,
   "metadata": {},
   "outputs": [],
   "source": [
    "# With Backtracking\n",
    "def needleman_wunsch(seq1, seq2, matrix_file):\n",
    "\n",
    "    score_matrix = initiate_score_matrix(matrix_file)\n",
    "\n",
    "    # Request user input for the gap cost, having the choice for either linear/affine\n",
    "    def choose_gapcost():\n",
    "        while True:\n",
    "            lin_or_aff = input(\"Linear/affine gapcost: \").lower()\n",
    "            if lin_or_aff == \"linear\":\n",
    "                gc_input = input(\"Gap cost: \")\n",
    "                if gc_input.isdigit():\n",
    "                    gap_cost = int(gc_input)\n",
    "                    break\n",
    "                print(\"Invalid input. Please try again.\")\n",
    "            elif lin_or_aff == \"affine\":\n",
    "                go_input = input(\"Gap open: \")\n",
    "                if go_input.isdigit():\n",
    "                    continue\n",
    "                ge_input = input(\"Gap extend: \")\n",
    "                if ge_input.isdigit():\n",
    "                    gap_cost = int(go_input) + int(ge_input)\n",
    "                    break\n",
    "                print(\"Invalid input. Please try again.\")\n",
    "            print(\"Invalid input. Please try again.\")\n",
    "        return gap_cost\n",
    "    \n",
    "    gap_cost = choose_gapcost()\n",
    "\n",
    "    n, m = len(seq1), len(seq2)\n",
    "\n",
    "    # Initialize dynamic programming table filled with zeros\n",
    "    dp = [[0] * (m + 1) for _ in range(n + 1)]\n",
    "\n",
    "    # Initialize the first row and column with gap penalties\n",
    "    for i in range(1, n + 1):\n",
    "        dp[i][0] = dp[i - 1][0] + gap_cost\n",
    "    for j in range(1, m + 1):\n",
    "        dp[0][j] = dp[0][j - 1] + gap_cost\n",
    "\n",
    "    # Fill in the rest of the matrix\n",
    "    for i in range(1, n + 1):\n",
    "        for j in range(1, m + 1):\n",
    "            match_score = dp[i - 1][j - 1] + score_matrix[seq1[i - 1]][seq2[j - 1]]\n",
    "            delete_score = dp[i - 1][j] + gap_cost\n",
    "            insert_score = dp[i][j - 1] + gap_cost\n",
    "            dp[i][j] = min(match_score, delete_score, insert_score)\n",
    "\n",
    "    # Backtrack to find the alignment\n",
    "    aligned_seq1, aligned_seq2 = \"\", \"\"\n",
    "    i, j = n, m\n",
    "    while i > 0 or j > 0:\n",
    "        if i > 0 and dp[i][j] == dp[i - 1][j] + gap_cost:\n",
    "            aligned_seq1 = seq1[i - 1] + aligned_seq1\n",
    "            aligned_seq2 = \"-\" + aligned_seq2\n",
    "            i -= 1\n",
    "        elif j > 0 and dp[i][j] == dp[i][j - 1] + gap_cost:\n",
    "            aligned_seq1 = \"-\" + aligned_seq1\n",
    "            aligned_seq2 = seq2[j - 1] + aligned_seq2\n",
    "            j -= 1\n",
    "        else:\n",
    "            aligned_seq1 = seq1[i - 1] + aligned_seq1\n",
    "            aligned_seq2 = seq2[j - 1] + aligned_seq2\n",
    "            i -= 1\n",
    "            j -= 1\n",
    "    return aligned_seq1, aligned_seq2, dp[n][m]"
   ]
  },
  {
   "cell_type": "code",
   "execution_count": 41,
   "metadata": {},
   "outputs": [
    {
     "name": "stdout",
     "output_type": "stream",
     "text": [
      "Aligned Sequence 1: ACGT-GTCAACGT-\n",
      "Aligned Sequence 2: ACGTCGT-AGC-TA\n",
      "Alignment Score: 22\n"
     ]
    }
   ],
   "source": [
    "aligned_seq1, aligned_seq2, alignment_score = needleman_wunsch(seq1, seq2, \"../data/score_matrix.txt\")\n",
    "print(\"Aligned Sequence 1:\", aligned_seq1)\n",
    "print(\"Aligned Sequence 2:\", aligned_seq2)\n",
    "print(\"Alignment Score:\", alignment_score)"
   ]
  },
  {
   "cell_type": "markdown",
   "metadata": {},
   "source": [
    "### 2. Mandatory:\n",
    "Make a program global_affine that implements global alignment using affine gap cost. The program should be implemented such that it takes at most quadratic time and space to compute the cost of an optimal global alignment. If requested, the program should output an optimal global alignment."
   ]
  }
 ],
 "metadata": {
  "kernelspec": {
   "display_name": "alg-proj2",
   "language": "python",
   "name": "python3"
  },
  "language_info": {
   "codemirror_mode": {
    "name": "ipython",
    "version": 3
   },
   "file_extension": ".py",
   "mimetype": "text/x-python",
   "name": "python",
   "nbconvert_exporter": "python",
   "pygments_lexer": "ipython3",
   "version": "3.12.2"
  }
 },
 "nbformat": 4,
 "nbformat_minor": 2
}
